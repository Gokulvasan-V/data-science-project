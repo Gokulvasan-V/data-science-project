{
  "nbformat": 4,
  "nbformat_minor": 0,
  "metadata": {
    "colab": {
      "provenance": []
    },
    "kernelspec": {
      "name": "python3",
      "display_name": "Python 3"
    },
    "language_info": {
      "name": "python"
    }
  },
  "cells": [
    {
      "cell_type": "markdown",
      "source": [
        "1.\tWrite a Python program to reverse the words in a given sentence. Example:  \n",
        "\tInput: \"Python is fun\"  \n",
        "\tOutput: \"fun is Python\""
      ],
      "metadata": {
        "id": "EneQwX_r0ZTF"
      }
    },
    {
      "cell_type": "code",
      "execution_count": null,
      "metadata": {
        "id": "cXg24jKaPYcw",
        "colab": {
          "base_uri": "https://localhost:8080/"
        },
        "outputId": "30536814-fa89-4323-9408-eada4a7f47d0"
      },
      "outputs": [
        {
          "output_type": "stream",
          "name": "stdout",
          "text": [
            "Fun is Python\n"
          ]
        }
      ],
      "source": [
        "s = \"Python is Fun\"\n",
        "words = s.split()\n",
        "reversed_words = words[::-1]\n",
        "result = ' '.join(reversed_words)\n",
        "print(result)"
      ]
    },
    {
      "cell_type": "markdown",
      "source": [
        "2.\tWrite a program to calculate the sum of digits in a given number. Example:\n",
        "\tInput: 123  \n",
        "\tOutput: 6"
      ],
      "metadata": {
        "id": "RcrbkMl51q76"
      }
    },
    {
      "cell_type": "code",
      "source": [
        "a = 123\n",
        "b = 0\n",
        "for i in str(a):\n",
        "  b+=int(i)\n",
        "b"
      ],
      "metadata": {
        "id": "-z229YJ0jlyf"
      },
      "execution_count": null,
      "outputs": []
    },
    {
      "cell_type": "markdown",
      "source": [
        "3.\tWrite a Python function to count the number of vowels in a string. Example:  \n",
        "\tInput: \"hello world\"  \n",
        "\tOutput: 3"
      ],
      "metadata": {
        "id": "1L0S8AsX2BX_"
      }
    },
    {
      "cell_type": "code",
      "source": [
        "S = \"hello world\"\n",
        "vowels = \"aeiou\"\n",
        "count = 0\n",
        "for i in S:\n",
        "  if i in vowels:\n",
        "    count+=1\n",
        "print(\"No of vowels:\",count)"
      ],
      "metadata": {
        "id": "bnpSSeE42IeT"
      },
      "execution_count": null,
      "outputs": []
    },
    {
      "cell_type": "markdown",
      "source": [
        "4.\tWrite a program to check whether a string is a palindrome. Example:  \n",
        "\tInput: \"madam\"  \n",
        "\tOutput: True"
      ],
      "metadata": {
        "id": "TgU_1aSv2wPM"
      }
    },
    {
      "cell_type": "code",
      "source": [
        "K = input(\"Enter a Palindrome:\")\n",
        "\n",
        "if K == K[::-1]:\n",
        "  print(True)\n",
        "else:\n",
        "  print(\"Give a Palindrome\")"
      ],
      "metadata": {
        "id": "zYMo4iC-22OM"
      },
      "execution_count": null,
      "outputs": []
    },
    {
      "cell_type": "markdown",
      "source": [
        "5.\tWrite a function to find the largest number in a list without using max() function.\n",
        "Example:  \n",
        "\tInput: [5, 12, 7, 9]  \n",
        "\tOutput: 12"
      ],
      "metadata": {
        "id": "E1ee4kgg4FuU"
      }
    },
    {
      "cell_type": "code",
      "source": [
        "m = [5,12,7,9]\n",
        "l = m[0]\n",
        "for i in m:\n",
        "  if l < i:\n",
        "    l = i\n",
        "print(l)"
      ],
      "metadata": {
        "id": "Uf_wHvFxq1CN"
      },
      "execution_count": null,
      "outputs": []
    },
    {
      "cell_type": "markdown",
      "source": [
        "6.\tWrite a Python program to remove duplicate values from a list.\n",
        "Example:  \n",
        "\tInput: [1, 2, 2, 3, 1]  \n",
        "\tOutput: [1, 2, 3]"
      ],
      "metadata": {
        "id": "J__456Du4tRD"
      }
    },
    {
      "cell_type": "code",
      "source": [
        "A = [1,2,2,3,1]\n",
        "set(A)"
      ],
      "metadata": {
        "id": "isbJGDNM8GvT"
      },
      "execution_count": null,
      "outputs": []
    },
    {
      "cell_type": "markdown",
      "source": [
        "7.\tWrite a program to find the factorial of a given number.\n",
        "Example:  \n",
        "\tInput: 5  \n",
        "\tOutput: 120"
      ],
      "metadata": {
        "id": "liP32v-H8Pfm"
      }
    },
    {
      "cell_type": "code",
      "source": [
        "num = int(input(\"Enter a number:\"))\n",
        "factorial = 1\n",
        "if num < 0 :\n",
        "  print(\"factorial does not exist\")\n",
        "elif num == 0:\n",
        "  print(\"factorial of 0 is 1\")\n",
        "else:\n",
        "  for i in range(1,num+1):\n",
        "    factorial = factorial*i\n",
        "  print(f\"The factorial of {num} is {factorial}.\")"
      ],
      "metadata": {
        "id": "vf4zyCePDfKV"
      },
      "execution_count": null,
      "outputs": []
    },
    {
      "cell_type": "markdown",
      "source": [
        "8.\tWrite a Python program to return all even numbers in a list.\n",
        "Example:  \n",
        "\tInput: [1, 4, 5, 6]  \n",
        "\tOutput: [4, 6]\n"
      ],
      "metadata": {
        "id": "AYKHWa3BJslE"
      }
    },
    {
      "cell_type": "code",
      "source": [
        "numbers = [1,4,5,6]\n",
        "even_numbers = [num for num in numbers if num % 2 == 0]\n",
        "print(even_numbers)"
      ],
      "metadata": {
        "id": "-gg9OgbiJ0dt"
      },
      "execution_count": null,
      "outputs": []
    },
    {
      "cell_type": "markdown",
      "source": [
        "9.\tWrite a function to count how many times each character appears in a string.\n",
        "Example:  \n",
        "\tInput: \"banana\"\n",
        "\tOutput: {'b': 1, 'a': 3, 'n': 2}\n"
      ],
      "metadata": {
        "id": "VmaksarlITpm"
      }
    },
    {
      "cell_type": "code",
      "source": [
        "Fruit = \"banana\"\n",
        "char = {}\n",
        "for i in Fruit:\n",
        "  if i in char:\n",
        "    char[i] += 1\n",
        "  else:\n",
        "    char[i]=1\n",
        "print(char)"
      ],
      "metadata": {
        "id": "hYBNst2wIdCQ"
      },
      "execution_count": null,
      "outputs": []
    },
    {
      "cell_type": "markdown",
      "source": [
        "10.\tWrite a Python program to count the number of words in a sentence. Example:  \n",
        "\tInput: \"Python is easy to learn\"   \n",
        "\tOutput: 5\n"
      ],
      "metadata": {
        "id": "DrnE7azMKVkh"
      }
    },
    {
      "cell_type": "code",
      "source": [
        "x = \"Python is easy to learn\"\n",
        "words = x.split()\n",
        "word_count = len(words)\n",
        "print(word_count)"
      ],
      "metadata": {
        "id": "qS2cjOv7QC7a"
      },
      "execution_count": null,
      "outputs": []
    },
    {
      "cell_type": "markdown",
      "source": [
        "11. Write a program to check if two strings are anagrams.\n",
        "Example : \"listen\", \"Silent\"\n",
        "Output : True"
      ],
      "metadata": {
        "id": "FZtPwdxLbft8"
      }
    },
    {
      "cell_type": "code",
      "source": [
        "I = \"listen\",\"Silent\"\n",
        "word_1 = I[0].lower()\n",
        "word_2 = I[1].lower()\n",
        "\n",
        "if sorted(word_1) == sorted(word_2):\n",
        "  print(True)\n",
        "else:\n",
        "  print(\"Give an anagram\")"
      ],
      "metadata": {
        "id": "cfCSIBz_b3fY"
      },
      "execution_count": null,
      "outputs": []
    },
    {
      "cell_type": "markdown",
      "source": [
        "12. Write a Python function to convert celsius temperature to Fahrenheit.\n",
        "Example:\n",
        "   Input : 0\n",
        "   Output : 32"
      ],
      "metadata": {
        "id": "LtDMXiy6Gm2V"
      }
    },
    {
      "cell_type": "code",
      "source": [
        "def convert(celsius):\n",
        "  Farenheit = (celsius * (9/5)) + 32\n",
        "  return Farenheit\n",
        "temp_in_celsius = 0\n",
        "print(\"Farenheit:\", (convert(temp_in_celsius)))"
      ],
      "metadata": {
        "id": "Tru0CaFkH0b7"
      },
      "execution_count": null,
      "outputs": []
    },
    {
      "cell_type": "markdown",
      "source": [
        "13. Write a program to count how many uppercase letters are in a string.\n",
        "Input : \"Hello World\"\n",
        "Output : 2"
      ],
      "metadata": {
        "id": "lvR634FEJe25"
      }
    },
    {
      "cell_type": "code",
      "source": [
        "str = \"Hello World\"\n",
        "count = 0\n",
        "for i in str:\n",
        "  if i.isupper():\n",
        "   count+=1\n",
        "print(count)"
      ],
      "metadata": {
        "id": "WbQwmwkhJ7X6"
      },
      "execution_count": null,
      "outputs": []
    },
    {
      "cell_type": "markdown",
      "source": [
        "14. Write a Python function to find the second largest number in a list.\n",
        "  Input : [10, 20, 15, 5]\n",
        "  Output : 15"
      ],
      "metadata": {
        "id": "Q-GLjATrMzS1"
      }
    },
    {
      "cell_type": "code",
      "source": [
        "T = [10, 20, 15, 5]\n",
        "T.sort(reverse=True)\n",
        "print(T[1])"
      ],
      "metadata": {
        "id": "KUc-rq7dNWhh"
      },
      "execution_count": null,
      "outputs": []
    },
    {
      "cell_type": "markdown",
      "source": [
        "15. Write a function to merge two lists into one.\n",
        "Input = [1,2],[3,4]\n",
        "Output = [1,2,3,4]"
      ],
      "metadata": {
        "id": "sCUBGXEiQ60K"
      }
    },
    {
      "cell_type": "code",
      "source": [
        "list_1 = [1,2],[3,4]\n",
        "merge_list = [(1,2)+(3,4)]\n",
        "print(merge_list)"
      ],
      "metadata": {
        "id": "_PKeqYm-RT6g"
      },
      "execution_count": null,
      "outputs": []
    },
    {
      "cell_type": "markdown",
      "source": [
        "17.\tWrite a function to return the square of each number in a list.\n",
        "Example:  \n",
        "\tInput: [1, 2, 3]  \n",
        "\tOutput: [1, 4, 9]\n"
      ],
      "metadata": {
        "id": "RtOmRGNBox3x"
      }
    },
    {
      "cell_type": "code",
      "source": [
        "q = [1,2,3]\n",
        "squared_num = []\n",
        "for i in q:\n",
        "  squared_num.append(i**2)\n",
        "squared_num"
      ],
      "metadata": {
        "id": "qBEpLDckpBXI"
      },
      "execution_count": null,
      "outputs": []
    },
    {
      "cell_type": "markdown",
      "source": [
        "18.\tWrite a Python function that returns the count of even and odd numbers in a list.\n",
        "Example:  \n",
        "\tInput: [1, 2, 3, 4]   \n",
        "\tOutput: (2, 2)\n"
      ],
      "metadata": {
        "id": "oQ2K0wc5wqwq"
      }
    },
    {
      "cell_type": "code",
      "source": [
        "x = [1,2,3,4]\n",
        "even_count = 0\n",
        "odd_count = 0\n",
        "\n",
        "for i in x:\n",
        "  if i%2 == 0:\n",
        "    even_count+=1\n",
        "  else:\n",
        "    odd_count+=1\n",
        "print((even_count,odd_count))"
      ],
      "metadata": {
        "id": "zpT60aOqwssI",
        "colab": {
          "base_uri": "https://localhost:8080/"
        },
        "outputId": "7f2acca8-3fa9-4057-b44a-47087915fad1"
      },
      "execution_count": 63,
      "outputs": [
        {
          "output_type": "stream",
          "name": "stdout",
          "text": [
            "(2, 2)\n"
          ]
        }
      ]
    },
    {
      "cell_type": "markdown",
      "source": [
        "22. Write a program that prints the multiplication table of a number up to 10.\n",
        "Input: 5\n",
        "Output:"
      ],
      "metadata": {
        "id": "TSdxY2pA0i8h"
      }
    },
    {
      "cell_type": "code",
      "source": [
        "num = int(input(\"Enter a number:\"))\n",
        "num_2 = []\n",
        "\n",
        "for i in range(1,11):\n",
        "   print(f'{num} x {i} = {i*num}')"
      ],
      "metadata": {
        "colab": {
          "base_uri": "https://localhost:8080/"
        },
        "id": "rpaird1m02pF",
        "outputId": "4b79fed6-192f-476d-d6c7-4636596a87df"
      },
      "execution_count": 55,
      "outputs": [
        {
          "output_type": "stream",
          "name": "stdout",
          "text": [
            "Enter a number:5\n",
            "5 x 1 = 5\n",
            "5 x 2 = 10\n",
            "5 x 3 = 15\n",
            "5 x 4 = 20\n",
            "5 x 5 = 25\n",
            "5 x 6 = 30\n",
            "5 x 7 = 35\n",
            "5 x 8 = 40\n",
            "5 x 9 = 45\n",
            "5 x 10 = 50\n"
          ]
        }
      ]
    },
    {
      "cell_type": "markdown",
      "source": [
        "23. Write a function to count the number of times a specific character appears in a string."
      ],
      "metadata": {
        "id": "zsshT39A4DPz"
      }
    },
    {
      "cell_type": "code",
      "source": [
        "r = \"Hello World\"\n",
        "count = 0\n",
        "for i in r.lower():\n",
        "  if i == 'l':\n",
        "    count += 1\n",
        "\n",
        "print(\"No. of 'l':\",count)"
      ],
      "metadata": {
        "id": "OCKqT7Gj4Zex",
        "colab": {
          "base_uri": "https://localhost:8080/"
        },
        "outputId": "7bb188a6-a054-426f-d817-91edec4a2a2b"
      },
      "execution_count": 56,
      "outputs": [
        {
          "output_type": "stream",
          "name": "stdout",
          "text": [
            "No. of 'l': 3\n"
          ]
        }
      ]
    },
    {
      "cell_type": "markdown",
      "source": [
        "25. Write a Python program to count the number of negative numbers in a list."
      ],
      "metadata": {
        "id": "QO9Jtrh_8Rdg"
      }
    },
    {
      "cell_type": "code",
      "source": [
        "c = [-1, 2, -3, 4, -6]\n",
        "count = 0\n",
        "\n",
        "for i in c:\n",
        "  if i < 0:\n",
        "    count+=1\n",
        "count"
      ],
      "metadata": {
        "id": "bYL0W3y48TTc",
        "colab": {
          "base_uri": "https://localhost:8080/"
        },
        "outputId": "0e5292db-0ada-4d81-d245-f750295757d6"
      },
      "execution_count": 57,
      "outputs": [
        {
          "output_type": "execute_result",
          "data": {
            "text/plain": [
              "3"
            ]
          },
          "metadata": {},
          "execution_count": 57
        }
      ]
    },
    {
      "cell_type": "markdown",
      "source": [
        "16. 16.\tWrite a program to find common elements in two lists.\n",
        "Example:  \n",
        "\tInput: [1, 2, 3], [2, 3, 4]  \n",
        "\tOutput: [2, 3]"
      ],
      "metadata": {
        "id": "SJMOadVMk69N"
      }
    },
    {
      "cell_type": "code",
      "source": [
        "list1 = [1,2,3]\n",
        "list2 = [2,3,4]\n",
        "\n",
        "common = list(set(list1) & set(list2))\n",
        "print(common)"
      ],
      "metadata": {
        "id": "zAs8zaIJ5I_X"
      },
      "execution_count": null,
      "outputs": []
    },
    {
      "cell_type": "markdown",
      "source": [
        "19.\tWrite a program to swap the first and last elements in a list.\n",
        "Example:  \n",
        "\tInput: [1, 2, 3, 4]  \n",
        "\tOutput: [4, 2, 3, 1]\n"
      ],
      "metadata": {
        "id": "8RSdN38A7DPU"
      }
    },
    {
      "cell_type": "code",
      "source": [
        "Z = [1,2,3,4]\n",
        "Z[0],Z[-1] = Z[-1],Z[0]\n",
        "print(Z)"
      ],
      "metadata": {
        "id": "lzVy4poh7NDn",
        "colab": {
          "base_uri": "https://localhost:8080/"
        },
        "outputId": "7c6bef94-ef66-4e1b-af0b-19a0e2c5d2eb"
      },
      "execution_count": 59,
      "outputs": [
        {
          "output_type": "stream",
          "name": "stdout",
          "text": [
            "[4, 2, 3, 1]\n"
          ]
        }
      ]
    },
    {
      "cell_type": "markdown",
      "source": [
        "20. Write a Python program to find the sum of elements in a list. Example:\n",
        "▪\tInput: \"hello\", \"ell\"  \n",
        "▪\tOutput: True"
      ],
      "metadata": {
        "id": "ym77AFYU7Nuh"
      }
    },
    {
      "cell_type": "code",
      "source": [
        "S = \"hello\"\n",
        "if S[1:4] == \"ell\":\n",
        "  print(True)"
      ],
      "metadata": {
        "id": "xRdoQ7qR7UhG",
        "colab": {
          "base_uri": "https://localhost:8080/"
        },
        "outputId": "579b7b51-75b6-461a-cd18-f3d0cf80e6bd"
      },
      "execution_count": 60,
      "outputs": [
        {
          "output_type": "stream",
          "name": "stdout",
          "text": [
            "True\n"
          ]
        }
      ]
    },
    {
      "cell_type": "markdown",
      "source": [
        "21. Write a function to return the longest word in a sentence.\n",
        "Input: \"Python is amazing\"\n",
        "Output: \"amazing\""
      ],
      "metadata": {
        "id": "fMjgIrcN7aJC"
      }
    },
    {
      "cell_type": "code",
      "source": [
        "sentence = \"Python is amazing\"\n",
        "print(max(sentence.split(), key=len))"
      ],
      "metadata": {
        "id": "P5q9lbQr8Pq7",
        "colab": {
          "base_uri": "https://localhost:8080/"
        },
        "outputId": "b7474739-b6f3-44e9-f425-e8d53bed1bca"
      },
      "execution_count": 61,
      "outputs": [
        {
          "output_type": "stream",
          "name": "stdout",
          "text": [
            "amazing\n"
          ]
        }
      ]
    },
    {
      "cell_type": "markdown",
      "source": [
        "24. Write a program to check if one string is a substring of another.\n",
        "Input: \"hello\", \"ell\"\n",
        "Output: True"
      ],
      "metadata": {
        "id": "GJncZVdj8QRv"
      }
    },
    {
      "cell_type": "code",
      "source": [
        "str1 = \"hello\"\n",
        "str2 = \"ell\"\n",
        "\n",
        "if str2 in str1:\n",
        "    print(True)\n",
        "else:\n",
        "    print(False)\n"
      ],
      "metadata": {
        "id": "_caz6rBq9_U2",
        "colab": {
          "base_uri": "https://localhost:8080/"
        },
        "outputId": "89d3581f-5fae-45fd-8e55-7be32d9a385b"
      },
      "execution_count": 62,
      "outputs": [
        {
          "output_type": "stream",
          "name": "stdout",
          "text": [
            "True\n"
          ]
        }
      ]
    }
  ]
}